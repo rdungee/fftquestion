{
 "nbformat": 4,
 "nbformat_minor": 2,
 "metadata": {
  "language_info": {
   "name": "python",
   "codemirror_mode": {
    "name": "ipython",
    "version": 3
   },
   "version": "3.7.5-final"
  },
  "orig_nbformat": 2,
  "file_extension": ".py",
  "mimetype": "text/x-python",
  "name": "python",
  "npconvert_exporter": "python",
  "pygments_lexer": "ipython3",
  "version": 3,
  "kernelspec": {
   "name": "python37364bit341522d89f66499ca53fe161ee755615",
   "display_name": "Python 3.7.3 64-bit"
  }
 },
 "cells": [
  {
   "cell_type": "code",
   "execution_count": 1,
   "metadata": {},
   "outputs": [],
   "source": [
    "%matplotlib qt\n",
    "import matplotlib.pyplot as plt\n",
    "import numpy as np\n",
    "import pyfftw\n",
    "\n",
    "from aotools.functions import circle\n",
    "from numpy.fft import fftshift, ifftshift, fft2, ifft2\n",
    "from scipy.signal import convolve"
   ]
  },
  {
   "cell_type": "code",
   "execution_count": 2,
   "metadata": {},
   "outputs": [],
   "source": [
    "def rect(x, D=1.):\n",
    "    x = np.abs(x)\n",
    "    y = (x < 0.5*D).astype(np.float64)\n",
    "    y[x == 0.5*D] = 0.5\n",
    "    return y\n",
    "\n",
    "def tri(t):\n",
    "    t = np.abs(t)\n",
    "    y = np.zeros(t.shape)\n",
    "    idx = t < 1.0\n",
    "    y[idx] = 1.0 - t[idx]\n",
    "    return y"
   ]
  },
  {
   "cell_type": "code",
   "execution_count": 7,
   "metadata": {},
   "outputs": [],
   "source": [
    "def fftwft2(data, delta):\n",
    "    '''Forward FFT using pyfftw\n",
    "    '''\n",
    "    fftin = pyfftw.empty_aligned(data.shape, dtype='complex128')\n",
    "    fftout = pyfftw.empty_aligned(data.shape, dtype='complex128')\n",
    "    fftw = pyfftw.FFTW(fftin, fftout, axes=(0,1), direction='FFTW_FORWARD')\n",
    "    fftin[:] = data +0.j\n",
    "    fftw()\n",
    "    return fftout * delta**2\n",
    "\n",
    "def fftwift2(data, delta):\n",
    "    '''Inverse FFT using pyfftw\n",
    "    '''\n",
    "    N = data.shape[0]\n",
    "    fftin = pyfftw.empty_aligned(data.shape, dtype='complex128')\n",
    "    fftout = pyfftw.empty_aligned(data.shape, dtype='complex128')\n",
    "    fftw = pyfftw.FFTW(fftin, fftout, axes=(0,1), direction='FFTW_BACKWARD')\n",
    "    fftin[:] = data + 0.j\n",
    "    fftw()\n",
    "    return fftout * (N * delta)**2\n",
    "\n",
    "def npft2(data, delta):\n",
    "    '''Forward FFT using numpy\n",
    "    '''\n",
    "    return fft2(data) * delta**2\n",
    "\n",
    "def npift2(data, delta):\n",
    "    '''Inverse FFT using numpy\n",
    "    '''\n",
    "    N = data.shape[0]\n",
    "    return ifft2(data) * (N * delta)**2\n",
    "\n",
    "def ft2(data, delta):\n",
    "    '''Forward FFT using numpy + shifting (from Schmidt 2010)\n",
    "    '''\n",
    "    return fftshift(fft2(fftshift(data))) * delta**2\n",
    "\n",
    "def ift2(data, delta):\n",
    "    '''Inverse FFT using numpy + shifting (from Schmidt 2010)\n",
    "    '''\n",
    "    N = data.shape[0]\n",
    "    return ifftshift(ifft2(ifftshift(data))) * (N * delta)**2"
   ]
  },
  {
   "cell_type": "code",
   "execution_count": 8,
   "metadata": {},
   "outputs": [],
   "source": [
    "def myconv2(A, B, delta):\n",
    "    '''FFT Convolution using Schmidt 2010 approach\n",
    "    '''\n",
    "    N = A.shape[0]\n",
    "    return ift2(ft2(A, delta)*ft2(B, delta), 1/(N*delta))\n",
    "\n",
    "def npconv2(A, B, delta):\n",
    "    '''My own numpy FFT convolution\n",
    "    '''\n",
    "    N = A.shape[0]\n",
    "    return npift2(npft2(A, delta)*npft2(B, delta), 1/(N*delta))\n",
    "\n",
    "def fftwconv2(A, B, delta):\n",
    "    '''My own FFT convolution using pyfftw\n",
    "    '''\n",
    "    N = A.shape[0]\n",
    "    return fftwift2(fftwft2(A, delta)*fftwft2(B, delta), 1/(N*delta))"
   ]
  },
  {
   "cell_type": "code",
   "execution_count": 9,
   "metadata": {},
   "outputs": [],
   "source": [
    "# 16 meter square grid, 256 pixels, with a 2 meter wide square\n",
    "N, L, w = 256, 16, 2\n",
    "delta = L/N\n",
    "x = np.arange(-N/2, N/2) * delta\n",
    "x, y = np.meshgrid(x, x)\n",
    "\n",
    "# Make a square (2D Rect Function)\n",
    "A = rect(x/w) * rect(y/w)\n",
    "B = rect(x/w) * rect(y/w)\n",
    "# Analytic solution to the convolution\n",
    "C_cont = w**2 * tri(x/w) * tri(y/w)"
   ]
  },
  {
   "cell_type": "code",
   "execution_count": 14,
   "metadata": {},
   "outputs": [
    {
     "data": {
      "text/plain": "<matplotlib.image.AxesImage at 0x7f966eb6c390>"
     },
     "execution_count": 14,
     "metadata": {},
     "output_type": "execute_result"
    }
   ],
   "source": [
    "C0 = myconv2(A, B, delta)\n",
    "C1 = convolve(A, B, 'same', 'direct') * delta**2\n",
    "C2 = fftwconv2(A, B, delta)\n",
    "f, axes = plt.subplots(2,2)\n",
    "axes[0,0].set_title(\"C2, pyfftw convolution\")\n",
    "im0 = axes[0,0].imshow(fftshift(C2).real, origin='lower', cmap='plasma')\n",
    "f.\n",
    "axes[0,1].set_title(\"C_cont, analytic solution\")\n",
    "axes[0,1].imshow(C_cont, origin='lower', cmap='plasma')\n",
    "axes[1,0].set_title(\"C2 - C_cont\")\n",
    "axes[1,0].imshow(fftshift(C2).real - C_cont, origin='lower', cmap='plasma')\n",
    "axes[1,1].set_title(\"C1 - C_cont\")\n",
    "axes[1,1].imshow(C1 - C_cont, origin='lower', cmap='plasma')"
   ]
  },
  {
   "cell_type": "code",
   "execution_count": null,
   "metadata": {},
   "outputs": [],
   "source": []
  }
 ]
}